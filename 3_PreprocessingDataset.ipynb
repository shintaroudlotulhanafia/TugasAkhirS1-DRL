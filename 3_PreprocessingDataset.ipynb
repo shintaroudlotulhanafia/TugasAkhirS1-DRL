{
  "nbformat": 4,
  "nbformat_minor": 0,
  "metadata": {
    "colab": {
      "name": "3_PreprocessingDataset.ipynb",
      "provenance": [],
      "authorship_tag": "ABX9TyMLwQcP2pjDDQuUGf7yhGJl",
      "include_colab_link": true
    },
    "kernelspec": {
      "name": "python3",
      "display_name": "Python 3"
    },
    "language_info": {
      "name": "python"
    }
  },
  "cells": [
    {
      "cell_type": "markdown",
      "metadata": {
        "id": "view-in-github",
        "colab_type": "text"
      },
      "source": [
        "<a href=\"https://colab.research.google.com/github/shintaroudlotulhanafia/TugasAkhirS1-DRL/blob/main/3_PreprocessingDataset.ipynb\" target=\"_parent\"><img src=\"https://colab.research.google.com/assets/colab-badge.svg\" alt=\"Open In Colab\"/></a>"
      ]
    },
    {
      "cell_type": "code",
      "execution_count": 1,
      "metadata": {
        "colab": {
          "base_uri": "https://localhost:8080/"
        },
        "id": "GU01f2f5fi88",
        "outputId": "a83be4f0-8f32-4f5d-a95f-190cdc9beec2"
      },
      "outputs": [
        {
          "output_type": "stream",
          "name": "stdout",
          "text": [
            "Mounted at /content/gdrive\n"
          ]
        }
      ],
      "source": [
        "# connecting gdrive into the google colab\n",
        "from google.colab import drive\n",
        "drive.mount('/content/gdrive')"
      ]
    },
    {
      "cell_type": "code",
      "source": [
        "import pandas as pd\n",
        "\n",
        "path = '/content/gdrive/MyDrive/TugasAkhirS1-DRL/1YahooFinanceScrapper/1.2.MergedDataset/YFinance_JIIDataset_2009_2021.csv'\n",
        "JIIStocksDataset = pd.read_csv(path)\n",
        "JIIStocksDataset"
      ],
      "metadata": {
        "id": "Zcb5zZDKfzAx"
      },
      "execution_count": null,
      "outputs": []
    },
    {
      "cell_type": "code",
      "source": [
        "# delete unnecessary column\n",
        "JIIStocksDataset.drop('Unnamed: 0', inplace=True, axis=1)\n",
        "print(JIIStocksDataset)"
      ],
      "metadata": {
        "id": "spIYgGCHgnCE"
      },
      "execution_count": null,
      "outputs": []
    },
    {
      "cell_type": "code",
      "source": [
        "# checking data\n",
        "JIIStocksDataset.info()"
      ],
      "metadata": {
        "id": "XOPeRveeg3Lt"
      },
      "execution_count": null,
      "outputs": []
    },
    {
      "cell_type": "code",
      "source": [
        "# change type of datadate feature\n",
        "JIIStocksDataset['datadate'] = JIIStocksDataset['datadate'].astype(object)"
      ],
      "metadata": {
        "id": "dNQgCNfig73y"
      },
      "execution_count": null,
      "outputs": []
    },
    {
      "cell_type": "code",
      "source": [
        "# displaying nan row\n",
        "JIIStocksDataset[JIIStocksDataset['adjcp'].isnull()]"
      ],
      "metadata": {
        "id": "EAhyVEadhJ4G"
      },
      "execution_count": null,
      "outputs": []
    },
    {
      "cell_type": "code",
      "source": [
        "# import the KNNimputer class\n",
        "from sklearn.impute import KNNImputer\n",
        "\n",
        "# take numerical features\n",
        "numerical_features = ['adjcp',\t'open',\t'high',\t'low',\t'volume']\n",
        "\n",
        "# create an object for KNNImputer\n",
        "imputer = KNNImputer(n_neighbors=2)\n",
        "JIIStocksDataset_After_imputation = imputer.fit_transform(JIIStocksDataset[numerical_features])"
      ],
      "metadata": {
        "id": "t9FKvzqzhOF6"
      },
      "execution_count": null,
      "outputs": []
    },
    {
      "cell_type": "code",
      "source": [
        "# print dataset after performing the operation\n",
        "# Note: After transforming the data becomes a numpy array\n",
        "print(\"\\n\\nAfter performing imputation\\n\",JIIStocksDataset_After_imputation)"
      ],
      "metadata": {
        "id": "R810aJvzhPln"
      },
      "execution_count": null,
      "outputs": []
    },
    {
      "cell_type": "code",
      "source": [
        "#import numpy array to dataframe\n",
        "\n",
        "import numpy as np\n",
        "\n",
        "JIIStocksDataframe_After_imputation = pd.DataFrame(JIIStocksDataset_After_imputation, columns = ['adjcp',\t'open',\t'high',\t'low',\t'volume'])\n",
        "print(JIIStocksDataframe_After_imputation)"
      ],
      "metadata": {
        "id": "cyYGwKx-hRFN"
      },
      "execution_count": null,
      "outputs": []
    },
    {
      "cell_type": "code",
      "source": [
        "#drop some column of JIIStockDataset \n",
        "JIIStocksDataset = JIIStocksDataset.drop(JIIStocksDataset.columns[[2, 3, 4, 5, 6]], axis=1) \n",
        "\n",
        "#concate the column to make newa dataframe\n",
        "JIIStocksDataframe = pd.concat([JIIStocksDataset, JIIStocksDataframe_After_imputation], axis=1)\n",
        "JIIStocksDataframe"
      ],
      "metadata": {
        "id": "oTR9AH2vhUxe"
      },
      "execution_count": null,
      "outputs": []
    },
    {
      "cell_type": "code",
      "source": [
        "JIIStocksDataframe.info()"
      ],
      "metadata": {
        "id": "9LIE6OSOhWps"
      },
      "execution_count": null,
      "outputs": []
    },
    {
      "cell_type": "code",
      "source": [
        "print(JIIStocksDataframe.loc[[15208]])\n",
        "print(JIIStocksDataframe.loc[[41665]])"
      ],
      "metadata": {
        "id": "h0073iF2hYXR"
      },
      "execution_count": null,
      "outputs": []
    },
    {
      "cell_type": "code",
      "source": [
        "import seaborn as sns"
      ],
      "metadata": {
        "id": "Sj_0p4UahbpG"
      },
      "execution_count": null,
      "outputs": []
    },
    {
      "cell_type": "code",
      "source": [
        "sns.boxplot(x=JIIStocksDataframe['adjcp'])"
      ],
      "metadata": {
        "id": "c0kDd-aChdOp"
      },
      "execution_count": null,
      "outputs": []
    },
    {
      "cell_type": "code",
      "source": [
        "sns.boxplot(x=JIIStocksDataframe['open'])"
      ],
      "metadata": {
        "id": "oORDL_JShgm7"
      },
      "execution_count": null,
      "outputs": []
    },
    {
      "cell_type": "code",
      "source": [
        "sns.boxplot(x=JIIStocksDataframe['high'])"
      ],
      "metadata": {
        "id": "dwAj8yxUhozh"
      },
      "execution_count": null,
      "outputs": []
    },
    {
      "cell_type": "code",
      "source": [
        "sns.boxplot(x=JIIStocksDataframe['low'])"
      ],
      "metadata": {
        "id": "ztGuROkQhp4Z"
      },
      "execution_count": null,
      "outputs": []
    },
    {
      "cell_type": "code",
      "source": [
        "sns.boxplot(x=JIIStocksDataframe['volume'])"
      ],
      "metadata": {
        "id": "MFkVuOZLhrY5"
      },
      "execution_count": null,
      "outputs": []
    },
    {
      "cell_type": "code",
      "source": [
        "# count the number of any value of volume\n",
        "\n",
        "#volumeUnder1000 = (JIIStocksDataframe.volume < 1000).sum()\n",
        "#print(\"Total of volume value under 1000: \", volumeUnder1000)"
      ],
      "metadata": {
        "id": "GQgdL1jihuyx"
      },
      "execution_count": null,
      "outputs": []
    },
    {
      "cell_type": "code",
      "source": [
        "#Drop volume which less than any value\n",
        "#JIIStocksDataframe = JIIStocksDataframe.loc[(JIIStocksDataframe[['volume']]>=1000).all(axis=1)]\n",
        "\n",
        "#check the data size to make sure the rows have been dropped\n",
        "#JIIStocksDataframe.shape"
      ],
      "metadata": {
        "id": "_6ffDysBiBtF"
      },
      "execution_count": null,
      "outputs": []
    },
    {
      "cell_type": "code",
      "source": [
        "import random\n",
        "from scipy.stats.mstats import winsorize\n",
        "import matplotlib.pyplot as plt"
      ],
      "metadata": {
        "id": "iBFCsKrMiJde"
      },
      "execution_count": null,
      "outputs": []
    },
    {
      "cell_type": "code",
      "source": [
        "numerical_features = ['adjcp', 'open', 'high', 'low', 'volume']"
      ],
      "metadata": {
        "id": "hqdyhZXFiKpN"
      },
      "execution_count": null,
      "outputs": []
    },
    {
      "cell_type": "code",
      "source": [
        "WinsorizedArray = winsorize(JIIStocksDataframe[numerical_features],(0.05,0.05))\n",
        "  \n",
        "plt.boxplot(WinsorizedArray)\n",
        "plt.title(\"Winsorized array of 'adjcp', 'open', 'high', 'low', 'volume'\")\n",
        "plt.show()"
      ],
      "metadata": {
        "id": "W3pIA7J1iL_X"
      },
      "execution_count": null,
      "outputs": []
    },
    {
      "cell_type": "code",
      "source": [
        "PreprocessedJIIStocksDataframe = pd.DataFrame(WinsorizedArray, columns = ['adjcp',\t'open',\t'high',\t'low',\t'volume'])"
      ],
      "metadata": {
        "id": "xEqiHEu3iPz6"
      },
      "execution_count": null,
      "outputs": []
    },
    {
      "cell_type": "code",
      "source": [
        "# trimming outliers\n",
        "\n",
        "#Q1 = JIIStocksDataframe.quantile(0.25)\n",
        "#Q3 = JIIStocksDataframe.quantile(0.75)\n",
        "#IQR=Q3-Q1\n",
        "#JIIStocksDataframe=JIIStocksDataframe[~((JIIStocksDataframe<(Q1-1.5*IQR))|(JIIStocksDataframe>(Q3+1.5*IQR))).any(axis=1)]\n",
        " \n",
        "# Cek ukuran dataset setelah kita drop outliers\n",
        "#JIIStocksDataframe.shape"
      ],
      "metadata": {
        "id": "3I_cgKuGioGm"
      },
      "execution_count": null,
      "outputs": []
    },
    {
      "cell_type": "code",
      "source": [
        "#Standardization with StandardScaler\n",
        "from sklearn.preprocessing import StandardScaler\n",
        "\n",
        "scaler = StandardScaler()\n",
        "scaler.fit(PreprocessedJIIStocksDataframe[numerical_features])\n",
        "PreprocessedJIIStocksDataframe[numerical_features] = scaler.transform(JIIStocksDataframe.loc[:, numerical_features])\n",
        "PreprocessedJIIStocksDataframe[numerical_features].head()"
      ],
      "metadata": {
        "id": "JEob_gJxivKx"
      },
      "execution_count": null,
      "outputs": []
    },
    {
      "cell_type": "code",
      "source": [
        "# Standardization changes the mean to 0 and the standard deviation to 1\n",
        "PreprocessedJIIStocksDataframe[numerical_features].describe().round(4)"
      ],
      "metadata": {
        "id": "D_OfneLeiwWh"
      },
      "execution_count": null,
      "outputs": []
    },
    {
      "cell_type": "code",
      "source": [
        "JIIStocksDataframe.info()"
      ],
      "metadata": {
        "id": "hZbUxamLix7J"
      },
      "execution_count": null,
      "outputs": []
    },
    {
      "cell_type": "code",
      "source": [
        "PreprocessedJIIStocksDataframe.info()"
      ],
      "metadata": {
        "id": "ZC8_8uvCi23k"
      },
      "execution_count": null,
      "outputs": []
    },
    {
      "cell_type": "code",
      "source": [
        "JIIStocksDataset = JIIStocksDataset.to_numpy()"
      ],
      "metadata": {
        "id": "z17Fq-dki4Il"
      },
      "execution_count": null,
      "outputs": []
    },
    {
      "cell_type": "code",
      "source": [
        "JIIStocksDataset"
      ],
      "metadata": {
        "id": "yo5xLqRhi5Ro"
      },
      "execution_count": null,
      "outputs": []
    },
    {
      "cell_type": "code",
      "source": [
        "df = pd.DataFrame(JIIStocksDataset, columns = ['datadate','tic'])"
      ],
      "metadata": {
        "id": "cJoT0QVTi6jd"
      },
      "execution_count": null,
      "outputs": []
    },
    {
      "cell_type": "code",
      "source": [
        "PreprocessedJIIStocksDataframe = pd.concat([df, PreprocessedJIIStocksDataframe], axis=1)\n",
        "PreprocessedJIIStocksDataframe"
      ],
      "metadata": {
        "id": "xjDGq_cbi79P"
      },
      "execution_count": null,
      "outputs": []
    },
    {
      "cell_type": "code",
      "source": [
        "# Save dataframe as csv\n",
        "dataset = PreprocessedJIIStocksDataframe.to_csv(\"/content/gdrive/MyDrive/TugasAkhirS1-DRL/3DRLForAutomatedStockTrading/Deep-Reinforcement-Learning-for-Automated-Stock-Trading-Ensemble-Strategy-ICAIF-2020-master/data/PreprocessedJIIDataset(Winsorized Without Dropout Rows).csv\")"
      ],
      "metadata": {
        "id": "dsVmMndSi-3I"
      },
      "execution_count": null,
      "outputs": []
    }
  ]
}