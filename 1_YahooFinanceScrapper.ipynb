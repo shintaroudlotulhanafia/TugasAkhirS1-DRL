{
  "nbformat": 4,
  "nbformat_minor": 0,
  "metadata": {
    "colab": {
      "name": "1_YahooFinanceScrapper.ipynb",
      "provenance": [],
      "authorship_tag": "ABX9TyMtFK6xZyrNVYZ89WPT5rv3",
      "include_colab_link": true
    },
    "kernelspec": {
      "name": "python3",
      "display_name": "Python 3"
    },
    "language_info": {
      "name": "python"
    }
  },
  "cells": [
    {
      "cell_type": "markdown",
      "metadata": {
        "id": "view-in-github",
        "colab_type": "text"
      },
      "source": [
        "<a href=\"https://colab.research.google.com/github/shintaroudlotulhanafia/TugasAkhirS1-DRL/blob/main/1_YahooFinanceScrapper.ipynb\" target=\"_parent\"><img src=\"https://colab.research.google.com/assets/colab-badge.svg\" alt=\"Open In Colab\"/></a>"
      ]
    },
    {
      "cell_type": "code",
      "source": [
        "# connecting gdrive into the google colab\n",
        "from google.colab import drive\n",
        "drive.mount('/content/gdrive')"
      ],
      "metadata": {
        "colab": {
          "base_uri": "https://localhost:8080/"
        },
        "id": "i-hbnOF2VFSE",
        "outputId": "c5ba2cdc-b4d0-4fc3-85ea-7e2b53b77703"
      },
      "execution_count": 1,
      "outputs": [
        {
          "output_type": "stream",
          "name": "stdout",
          "text": [
            "Mounted at /content/gdrive\n"
          ]
        }
      ]
    },
    {
      "cell_type": "code",
      "execution_count": null,
      "metadata": {
        "id": "GMqL6hSrTaed"
      },
      "outputs": [],
      "source": [
        "'''\n",
        "Python Script for Gathering Daily Stock Transaction From Yahoon Finance\n",
        "Author : R\n",
        "\n",
        "Module(s) Required to be downloaded  in this script :\n",
        "yfinance\n",
        "pandas\n",
        "\n",
        "To learn how to use the script go to ReadMe File\n",
        "\n",
        "Version 1.00\n",
        "'''\n",
        "\n",
        "import yfinance as yf\n",
        "import csv\n",
        "from datetime import date, datetime\n",
        "import pandas as pd\n",
        "import os\n",
        "import re\n",
        "\n",
        "# ------------------------------------------------------------------\n",
        "# DATA GATHERER\n",
        "# -------------------------------------------------------------------\n",
        "\n",
        "stockList = [\n",
        "            \"ADRO.JK\",\n",
        "            \"ANTM.JK\",\n",
        "            \"BRIS.JK\",\n",
        "            \"BRPT.JK\",\n",
        "            \"BUKA.JK\",\n",
        "            \"CPIN.JK\",\n",
        "            \"EMTK.JK\",\n",
        "            \"ERAA.JK\",\n",
        "            \"EXCL.JK\",\n",
        "            \"ICBP.JK\",\n",
        "            \"INCO.JK\",\n",
        "            \"INDF.JK\",\n",
        "            \"INKP.JK\",\n",
        "            \"INTP.JK\",\n",
        "            \"ITMG.JK\",\n",
        "            \"JPFA.JK\",\n",
        "            \"KLBF.JK\",\n",
        "            \"MIKA.JK\",\n",
        "            \"MNCN.JK\",\n",
        "            \"PGAS.JK\",\n",
        "            \"PTBA.JK\",\n",
        "            \"PTPP.JK\",\n",
        "            \"SMGR.JK\",\n",
        "            \"TINS.JK\",\n",
        "            \"TKIM.JK\",\n",
        "            \"TLKM.JK\",\n",
        "            \"TPIA.JK\",\n",
        "            \"UNTR.JK\",\n",
        "            \"UNVR.JK\",\n",
        "            \"WIKA.JK\"\n",
        "                         ]\n",
        "\n",
        "# List of Stocks that we want to acquire the daily transaction\n",
        "todayDate = date.today().strftime('%d-%m-%Y')\n",
        "# Acquire today date\n",
        "\n",
        "# Use loop to create folder for each stock in stockList\n",
        "# for directory in stockList:\n",
        "#     os.makedirs(\"Data/\" + directory + \"/\" + \"Daily\", exist_ok=\"True\")\n",
        "\n",
        "#Use loop to iterate the list and acquire all the stock data in stockList\n",
        "for stock in stockList :\n",
        "    data = yf.download(stock,interval = \"1d\",period = \"1y\", start=\"2009-01-01\", end=\"2021-12-31\")\n",
        "    # Download the data from Yahoo Finance with 1 hour interval within 1 day\n",
        "    # The data acquired will be in Pandas' DataFrame\n",
        "\n",
        "    print(data)\n",
        "    dailyFile = data.to_csv(\"/gdrive/MyDrive/TugasAkhirS1-DRL/1YahooFinanceScrapper/DataPerStocks/\" + stock + \".csv\")\n",
        "    #export the daily data into CSV file\n",
        "\n",
        "    #Below are line of codes used to fix the 'date' problem\n",
        "    fileName = \"Data/\" + stock + \"/\" + \"Daily/\" + stock + \"_\" + todayDate + \".csv\"\n",
        "    outName = \"Data/\" + stock + \"/\" + \"Daily/\" + stock + \"_\" + todayDate + \".csv\"\n",
        "\n",
        "    # print(fileName,outName)\n",
        "\n",
        "    # with open(fileName, 'r') as inFile, open(outName, 'w') as outfile:\n",
        "    #     r = csv.reader(inFile)\n",
        "    #     w = csv.writer(outfile)\n",
        "\n",
        "    #     next(r, None)  # skip the first row from the reader, the old header\n",
        "    #     # write new header\n",
        "    #     w.writerow(['Date','Open','High','Low','Close','Adj Close','Volume'])\n",
        "\n",
        "    #     # copy the rest\n",
        "    #     for row in r:\n",
        "    #         w.writerow(row)\n",
        "\n",
        "    # Delete the original temp file\n",
        "   # os.remove(fileName)\n",
        "\n",
        "\n",
        "# ------------------------------------------------------------------\n",
        "# APPEND DAILY CSV TO MASTER FILE\n",
        "# -------------------------------------------------------------------\n",
        "# Check if the Master File exists, if not create an empty CSV\n",
        "# for stock in stockList :\n",
        "#     if os.path.exists( \"Data/\" + stock + \"/\" + stock +\".csv\"):\n",
        "#         print(stock,\" Master File already exists!\")\n",
        "#     else :\n",
        "#         df = pd.DataFrame(list())\n",
        "#         df.to_csv(\"Data/\" + stock + \"/\" + stock +\".csv\")\n",
        "\n",
        "print(\"FINISHED!\")\n",
        "# There are some problems in the codes, awaiting further update"
      ]
    }
  ]
}